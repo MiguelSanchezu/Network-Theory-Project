{
  "nbformat": 4,
  "nbformat_minor": 0,
  "metadata": {
    "colab": {
      "provenance": []
    },
    "kernelspec": {
      "name": "python3",
      "display_name": "Python 3"
    },
    "language_info": {
      "name": "python"
    }
  },
  "cells": [
    {
      "cell_type": "code",
      "execution_count": null,
      "metadata": {
        "id": "sf9kMdPeHkwC"
      },
      "outputs": [],
      "source": [
        "import networkx as nx\n",
        "import matplotlib.pyplot as plt\n",
        "\n",
        "actor_network_path = '/content/facebook_combined.txt.gz'\n",
        "\n",
        "# Create a graph from the edge list\n",
        "G_actor = nx.read_edgelist(actor_network_path)\n",
        "\n",
        "# Basic information about the network\n",
        "num_nodes = G_actor.number_of_nodes()\n",
        "num_edges = G_actor.number_of_edges()\n",
        "\n",
        "# Calculate basic network metrics\n",
        "try:\n",
        "    avg_path_length = nx.average_shortest_path_length(G_actor)\n",
        "except nx.NetworkXError:\n",
        "    avg_path_length = None\n",
        "\n",
        "clustering_coefficient = nx.average_clustering(G_actor)\n",
        "\n",
        "try:\n",
        "    diameter = nx.diameter(G_actor)\n",
        "except nx.NetworkXError:\n",
        "    diameter = None\n",
        "\n",
        "print(f\"Number of nodes: {num_nodes}\")\n",
        "print(f\"Number of edges: {num_edges}\")\n",
        "print(f\"Average path length: {avg_path_length}\")\n",
        "print(f\"Clustering coefficient: {clustering_coefficient}\")\n",
        "print(f\"Diameter: {diameter}\")\n",
        "\n",
        "# Visualize the network\n",
        "plt.figure(figsize=(12, 12))\n",
        "pos = nx.spring_layout(G_actor, seed=42)  # Positions for all nodes\n",
        "nx.draw(G_actor, pos, node_size=10, node_color='blue', edge_color='gray', with_labels=False)\n",
        "plt.title('Social circles: Facebook Network Visualization')\n",
        "plt.show()\n"
      ]
    },
    {
      "cell_type": "code",
      "source": [
        "import networkx as nx\n",
        "\n",
        "# Calculate Degree Centrality\n",
        "degree_centrality = nx.degree_centrality(G_actor)\n",
        "\n",
        "# Calculate Eigenvector Centrality\n",
        "eigenvector_centrality = nx.eigenvector_centrality(G_actor)\n",
        "\n",
        "\n",
        "print(\"Degree Centrality:\")\n",
        "for node, centrality in sorted(degree_centrality.items(), key=lambda x: x[1], reverse=True)[:5]:\n",
        "    print(f\"Node {node}: Degree Centrality = {centrality}\")\n",
        "\n",
        "print(\"\\nEigenvector Centrality:\")\n",
        "for node, centrality in sorted(eigenvector_centrality.items(), key=lambda x: x[1], reverse=True)[:5]:\n",
        "    print(f\"Node {node}: Eigenvector Centrality = {centrality}\")\n"
      ],
      "metadata": {
        "colab": {
          "base_uri": "https://localhost:8080/"
        },
        "id": "GKFMTZyWTmt2",
        "outputId": "63283248-b9be-4a3f-c085-d617285352ae"
      },
      "execution_count": null,
      "outputs": [
        {
          "output_type": "stream",
          "name": "stdout",
          "text": [
            "Degree Centrality:\n",
            "Node 107: Degree Centrality = 0.258791480931154\n",
            "Node 1684: Degree Centrality = 0.1961367013372957\n",
            "Node 1912: Degree Centrality = 0.18697374938088163\n",
            "Node 3437: Degree Centrality = 0.13546310054482416\n",
            "Node 0: Degree Centrality = 0.08593363051015354\n",
            "\n",
            "Eigenvector Centrality:\n",
            "Node 1912: Eigenvector Centrality = 0.09540696149067629\n",
            "Node 2266: Eigenvector Centrality = 0.08698327767886552\n",
            "Node 2206: Eigenvector Centrality = 0.08605239270584342\n",
            "Node 2233: Eigenvector Centrality = 0.08517340912756598\n",
            "Node 2464: Eigenvector Centrality = 0.08427877475676092\n"
          ]
        }
      ]
    },
    {
      "cell_type": "code",
      "source": [
        "import networkx as nx\n",
        "\n",
        "# Calculate Closeness Centrality\n",
        "closeness_centrality = nx.closeness_centrality(G_actor)\n",
        "\n",
        "\n",
        "print(\"Closeness Centrality:\")\n",
        "for node, centrality in sorted(closeness_centrality.items(), key=lambda x: x[1], reverse=True)[:5]:\n",
        "    print(f\"Node {node}: Closeness Centrality = {centrality}\")\n"
      ],
      "metadata": {
        "colab": {
          "base_uri": "https://localhost:8080/"
        },
        "id": "SyX5zaEBULam",
        "outputId": "aa7b1a31-cd7c-406a-8171-5737059ab3d9"
      },
      "execution_count": null,
      "outputs": [
        {
          "output_type": "stream",
          "name": "stdout",
          "text": [
            "Closeness Centrality:\n",
            "Node 107: Closeness Centrality = 0.45969945355191255\n",
            "Node 58: Closeness Centrality = 0.3974018305284913\n",
            "Node 428: Closeness Centrality = 0.3948371956585509\n",
            "Node 563: Closeness Centrality = 0.3939127889961955\n",
            "Node 1684: Closeness Centrality = 0.39360561458231796\n"
          ]
        }
      ]
    },
    {
      "cell_type": "code",
      "source": [
        "import networkx as nx\n",
        "import matplotlib.pyplot as plt\n",
        "\n",
        "\n",
        "# Calculate degree for each node\n",
        "degree_sequence = [d for n, d in G_actor.degree()]\n",
        "\n",
        "# Count the frequency of each degree value\n",
        "degree_count = nx.degree_histogram(G_actor)\n",
        "degrees = range(len(degree_count))\n",
        "\n",
        "# Plot the degree distribution\n",
        "plt.figure(figsize=(6, 4))\n",
        "plt.bar(degrees, degree_count, width=0.8, color='b')\n",
        "plt.title(\"Degree Distribution\")\n",
        "plt.xlabel(\"Degree\")\n",
        "plt.ylabel(\"Frequency\")\n",
        "plt.show()\n"
      ],
      "metadata": {
        "colab": {
          "base_uri": "https://localhost:8080/",
          "height": 410
        },
        "id": "JWAwvguAXZk2",
        "outputId": "b1e8d82d-0a93-409c-c496-82a4a6822744"
      },
      "execution_count": null,
      "outputs": [
        {
          "output_type": "display_data",
          "data": {
            "text/plain": [
              "<Figure size 600x400 with 1 Axes>"
            ],
            "image/png": "[encoded data removed]"
          },
          "metadata": {}
        }
      ]
    }
  ]
}